{
 "cells": [
  {
   "cell_type": "markdown",
   "metadata": {},
   "source": [
    "#  pyosolver\n",
    "\n",
    "pyosolver"
   ]
  },
  {
   "cell_type": "code",
   "execution_count": 12,
   "metadata": {},
   "outputs": [
    {
     "name": "stdout",
     "output_type": "stream",
     "text": [
      "created metadata.\n"
     ]
    }
   ],
   "source": [
    "from pyosolver import PYOSolver\n",
    "import pprint\n",
    "import json\n",
    "import time\n",
    "import math\n",
    "import sys\n",
    "import os\n",
    "\n",
    "pp = pprint.PrettyPrinter(indent = 1)\n",
    "PATH = \"~/pyosolver\"\n",
    "EXECUTABLE = \"PYOSOLVER2-edge\"\n",
    "print(\"created metadata.\")"
   ]
  },
  {
   "cell_type": "code",
   "execution_count": 13,
   "metadata": {},
   "outputs": [
    {
     "name": "stdout",
     "output_type": "stream",
     "text": [
      "FileNotFoundError(2, 'No such file or directory')\n"
     ]
    }
   ],
   "source": [
    "try:\n",
    "    solver = PYOSolver(PATH, EXECUTABLE)\n",
    "    print(solver)\n",
    "\n",
    "except Exception as e:\n",
    "    pp.pprint(e)\n",
    "    pass"
   ]
  },
  {
   "cell_type": "code",
   "execution_count": null,
   "metadata": {},
   "outputs": [],
   "source": []
  }
 ],
 "metadata": {
  "kernelspec": {
   "display_name": "Python 3.10.5 ('pyosolver')",
   "language": "python",
   "name": "python3"
  },
  "language_info": {
   "codemirror_mode": {
    "name": "ipython",
    "version": 3
   },
   "file_extension": ".py",
   "mimetype": "text/x-python",
   "name": "python",
   "nbconvert_exporter": "python",
   "pygments_lexer": "ipython3",
   "version": "3.10.5"
  },
  "orig_nbformat": 4,
  "vscode": {
   "interpreter": {
    "hash": "fb5906bc6d69a01032e3b686d912a6762a6cba696141015b2659e7b5f691e4f1"
   }
  }
 },
 "nbformat": 4,
 "nbformat_minor": 2
}
